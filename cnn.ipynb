{
 "cells": [
  {
   "cell_type": "code",
   "execution_count": 1,
   "metadata": {},
   "outputs": [],
   "source": [
    "import cv2"
   ]
  },
  {
   "cell_type": "code",
   "execution_count": 2,
   "metadata": {},
   "outputs": [],
   "source": [
    "image = cv2.imread(\"download.jpg\")"
   ]
  },
  {
   "cell_type": "code",
   "execution_count": 3,
   "metadata": {},
   "outputs": [],
   "source": [
    "resized_image = cv2.resize(image,(500,500))"
   ]
  },
  {
   "cell_type": "code",
   "execution_count": 4,
   "metadata": {},
   "outputs": [],
   "source": [
    "grayscale_image = cv2.cvtColor(resized_image, cv2.COLOR_BGR2GRAY)"
   ]
  },
  {
   "cell_type": "code",
   "execution_count": 5,
   "metadata": {},
   "outputs": [
    {
     "data": {
      "text/plain": [
       "True"
      ]
     },
     "execution_count": 5,
     "metadata": {},
     "output_type": "execute_result"
    }
   ],
   "source": [
    "cv2.imwrite(\"grayscale_image.jpg\",grayscale_image)"
   ]
  },
  {
   "cell_type": "code",
   "execution_count": 6,
   "metadata": {},
   "outputs": [
    {
     "data": {
      "text/plain": [
       "True"
      ]
     },
     "execution_count": 6,
     "metadata": {},
     "output_type": "execute_result"
    }
   ],
   "source": [
    "grayscale_image = cv2.imread('grayscale_image.jpg', cv2.IMREAD_GRAYSCALE)\n",
    "\n",
    "# Perform Canny edge detection\n",
    "edges = cv2.Canny(grayscale_image, threshold1=30, threshold2=100) # You can adjust the thresholds as needed\n",
    "\n",
    "# Save the edge-detected image\n",
    "cv2.imwrite('edges_detected.jpg', edges)"
   ]
  },
  {
   "cell_type": "code",
   "execution_count": 7,
   "metadata": {},
   "outputs": [
    {
     "data": {
      "text/plain": [
       "True"
      ]
     },
     "execution_count": 7,
     "metadata": {},
     "output_type": "execute_result"
    }
   ],
   "source": [
    "import cv2\n",
    "\n",
    "# Load the grayscale image\n",
    "grayscale_image = cv2.imread('grayscale_image.jpg', cv2.IMREAD_GRAYSCALE)\n",
    "\n",
    "# Perform horizontal edge detection using Sobel filter\n",
    "edges_horizontal = cv2.Sobel(grayscale_image, cv2.CV_8U, 1, 0, ksize=3) # 1 for horizontal direction\n",
    "\n",
    "# Perform vertical edge detection using Sobel filter\n",
    "edges_vertical = cv2.Sobel(grayscale_image, cv2.CV_8U, 0, 1, ksize=3) # 1 for vertical direction\n",
    "\n",
    "# Save the horizontal edge-detected image\n",
    "cv2.imwrite('edges_horizontal.jpg', edges_horizontal)\n",
    "\n",
    "# Save the vertical edge-detected image\n",
    "cv2.imwrite('edges_vertical.jpg', edges_vertical)\n"
   ]
  },
  {
   "cell_type": "code",
   "execution_count": null,
   "metadata": {},
   "outputs": [],
   "source": []
  }
 ],
 "metadata": {
  "kernelspec": {
   "display_name": "Python 3",
   "language": "python",
   "name": "python3"
  },
  "language_info": {
   "codemirror_mode": {
    "name": "ipython",
    "version": 3
   },
   "file_extension": ".py",
   "mimetype": "text/x-python",
   "name": "python",
   "nbconvert_exporter": "python",
   "pygments_lexer": "ipython3",
   "version": "3.10.11"
  },
  "orig_nbformat": 4
 },
 "nbformat": 4,
 "nbformat_minor": 2
}
