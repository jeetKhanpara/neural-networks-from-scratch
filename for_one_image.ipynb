{
 "cells": [
  {
   "cell_type": "code",
   "execution_count": 1,
   "metadata": {},
   "outputs": [
    {
     "name": "stdout",
     "output_type": "stream",
     "text": [
      "2000\n",
      "2000\n",
      "6\n",
      "2\n",
      "before reshaping \n",
      "\n",
      "X_train  (6, 64, 64, 3)\n",
      "X_test  (2, 64, 64, 3)\n",
      "Y_train  (6,)\n",
      "Y_test  (2,)\n",
      "X_train  (12288, 6)\n",
      "X_test  (12288, 2)\n",
      "Y_train  (1, 6)\n",
      "Y_test  (1, 2)\n"
     ]
    }
   ],
   "source": [
    "import numpy as np\n",
    "import random\n",
    "from dataunload import X_train,Y_train,X_test,Y_test"
   ]
  },
  {
   "cell_type": "code",
   "execution_count": 2,
   "metadata": {},
   "outputs": [],
   "source": [
    "#defining sigmoid function\n",
    "def sigmoid(z):\n",
    "    return 1/(1 + np.exp(-z))\n",
    "\n",
    "#defining cost function\n",
    "def cal_cost(y,y_hat):\n",
    "    #y is actual predicted value \n",
    "    #y_hat is calculated value\n",
    "    m = y.shape[1]\n",
    "\n",
    "    return - (np.dot(y, np.log(y_hat).T) + np.dot((1 - y), np.log(1 - y_hat).T)) / m"
   ]
  },
  {
   "cell_type": "code",
   "execution_count": 3,
   "metadata": {},
   "outputs": [
    {
     "name": "stdout",
     "output_type": "stream",
     "text": [
      "(5, 12288)\n",
      "(5, 1)\n"
     ]
    }
   ],
   "source": [
    "w1 = np.random.randn(5,12288)\n",
    "b1 = np.zeros((5,1))\n",
    "print(w1.shape)\n",
    "print(b1.shape)"
   ]
  },
  {
   "cell_type": "code",
   "execution_count": 59,
   "metadata": {},
   "outputs": [
    {
     "data": {
      "text/plain": [
       "(5, 6)"
      ]
     },
     "execution_count": 59,
     "metadata": {},
     "output_type": "execute_result"
    }
   ],
   "source": [
    "Z1 = np.dot(w1,X_train) + b1\n",
    "Z1.shape"
   ]
  },
  {
   "cell_type": "code",
   "execution_count": 60,
   "metadata": {},
   "outputs": [
    {
     "data": {
      "text/plain": [
       "(5, 6)"
      ]
     },
     "execution_count": 60,
     "metadata": {},
     "output_type": "execute_result"
    }
   ],
   "source": [
    "A1 = sigmoid(Z1)\n",
    "A1.shape"
   ]
  },
  {
   "cell_type": "code",
   "execution_count": 61,
   "metadata": {},
   "outputs": [],
   "source": [
    "w2 = np.random.randn(1,5)\n",
    "b2 = np.zeros((1,1))"
   ]
  },
  {
   "cell_type": "code",
   "execution_count": 62,
   "metadata": {},
   "outputs": [
    {
     "data": {
      "text/plain": [
       "(1, 6)"
      ]
     },
     "execution_count": 62,
     "metadata": {},
     "output_type": "execute_result"
    }
   ],
   "source": [
    "Z2 = np.dot(w2,A1) + b2\n",
    "Z2.shape"
   ]
  },
  {
   "cell_type": "code",
   "execution_count": 63,
   "metadata": {},
   "outputs": [
    {
     "data": {
      "text/plain": [
       "(1, 6)"
      ]
     },
     "execution_count": 63,
     "metadata": {},
     "output_type": "execute_result"
    }
   ],
   "source": [
    "A2 = sigmoid(Z2)\n",
    "A2.shape\n"
   ]
  },
  {
   "cell_type": "code",
   "execution_count": 64,
   "metadata": {},
   "outputs": [
    {
     "name": "stdout",
     "output_type": "stream",
     "text": [
      "(1, 1)\n",
      "[[0.87050592]]\n"
     ]
    }
   ],
   "source": [
    "cost = cal_cost(Y_train,A2)\n",
    "print(cost.shape)\n",
    "print(cost)\n"
   ]
  },
  {
   "cell_type": "code",
   "execution_count": 54,
   "metadata": {},
   "outputs": [
    {
     "name": "stdout",
     "output_type": "stream",
     "text": [
      "Shape of dA2: (1, 6)\n",
      "Shape of dZ2: (1, 6)\n",
      "Shape of dw2: (1, 5)\n",
      "Shape of db2: ()\n",
      "Shape of w2: (1, 5)\n",
      "Shape of b2: (1, 1)\n"
     ]
    }
   ],
   "source": [
    "m = Y_train.shape[1]\n",
    "dA2 = ((1 - Y_train) / (1 - A2)) - (Y_train / A2)\n",
    "dZ2 = dA2 * (A2 * (1 - A2))\n",
    "dw2 = (np.dot(dZ2, A1.T )) / m\n",
    "db2 = np.sum(dZ2) / m\n",
    "print(\"Shape of dA2:\", dA2.shape)\n",
    "print(\"Shape of dZ2:\", dZ2.shape)\n",
    "print(\"Shape of dw2:\", dw2.shape)\n",
    "print(\"Shape of db2:\", db2.shape)\n",
    "print(\"Shape of w2:\", w2.shape)\n",
    "print(\"Shape of b2:\", b2.shape)"
   ]
  },
  {
   "cell_type": "code",
   "execution_count": 55,
   "metadata": {},
   "outputs": [],
   "source": [
    "learning_rate = 0.0001\n",
    "w2 -= learning_rate*dw2\n",
    "b2 -= learning_rate*db2"
   ]
  },
  {
   "cell_type": "code",
   "execution_count": 56,
   "metadata": {},
   "outputs": [
    {
     "name": "stdout",
     "output_type": "stream",
     "text": [
      "shape of A2:  (1, 6)\n",
      "shape of db1:  ()\n",
      "shape of dZ1:  (5, 6)\n",
      "shape of Y_train:  (1, 6)\n",
      "shape of w2:  (1, 5)\n",
      "shape of A1:  (5, 6)\n",
      "shape of dW1:  (5, 12288)\n",
      "shape of w1:  (5, 12288)\n"
     ]
    }
   ],
   "source": [
    "dA1 = np.dot(w2.T, dZ2)\n",
    "dZ1 = dA1 * (A1 * (1 - A1))\n",
    "dw1 = np.dot(dZ1, X_train.T)\n",
    "db1 = np.sum(dZ1)\n",
    "print(\"shape of A2: \",A2.shape)\n",
    "print(\"shape of db1: \",db1.shape)\n",
    "print(\"shape of dZ1: \",dZ1.shape)\n",
    "print(\"shape of Y_train: \",Y_train.shape)\n",
    "print(\"shape of w2: \",w2.shape)\n",
    "print(\"shape of A1: \",A1.shape)\n",
    "print(\"shape of dW1: \",dw1.shape)\n",
    "print(\"shape of w1: \",w1.shape)"
   ]
  },
  {
   "cell_type": "code",
   "execution_count": 57,
   "metadata": {},
   "outputs": [],
   "source": [
    "learning_rate = 0.0001\n",
    "w1 -= learning_rate*dw1\n",
    "b1 -= learning_rate*db1"
   ]
  },
  {
   "cell_type": "code",
   "execution_count": 58,
   "metadata": {},
   "outputs": [
    {
     "data": {
      "text/plain": [
       "array([[0.72822985]])"
      ]
     },
     "execution_count": 58,
     "metadata": {},
     "output_type": "execute_result"
    }
   ],
   "source": [
    "cost"
   ]
  },
  {
   "cell_type": "code",
   "execution_count": 25,
   "metadata": {},
   "outputs": [],
   "source": [
    "class Car:\n",
    "    def __init__(self,make,model,year) -> None:\n",
    "        self.make = make \n",
    "        self.model = model\n",
    "        self.year = year\n",
    "        self.speed = 0\n",
    "\n",
    "    def start(self):\n",
    "        print(f\"{self.year} {self.make} {self.model} is starting\")\n",
    "    def stop(self):\n",
    "        print(f\"{self.year} {self.make} {self.model} is stopping\")\n",
    "    def accelerate(self,mph):\n",
    "        self.speed += mph\n",
    "        print(f\"{self.year} {self.make} {self.model} is accelarating to {self.speed}\")\n",
    "    def breaking(self, mph):\n",
    "        if mph > 100:\n",
    "            print(f\"thoda rest lelo verna rest in peace ho jaoge\")\n",
    "        else:\n",
    "            print(\"you are going at good speed but take care\")\n"
   ]
  },
  {
   "cell_type": "code",
   "execution_count": null,
   "metadata": {},
   "outputs": [],
   "source": []
  }
 ],
 "metadata": {
  "kernelspec": {
   "display_name": "Python 3",
   "language": "python",
   "name": "python3"
  },
  "language_info": {
   "codemirror_mode": {
    "name": "ipython",
    "version": 3
   },
   "file_extension": ".py",
   "mimetype": "text/x-python",
   "name": "python",
   "nbconvert_exporter": "python",
   "pygments_lexer": "ipython3",
   "version": "3.10.11"
  },
  "orig_nbformat": 4
 },
 "nbformat": 4,
 "nbformat_minor": 2
}
