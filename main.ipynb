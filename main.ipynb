{
 "cells": [
  {
   "cell_type": "code",
   "execution_count": 1,
   "metadata": {},
   "outputs": [
    {
     "name": "stdout",
     "output_type": "stream",
     "text": [
      "2000\n",
      "2000\n",
      "6\n",
      "2\n",
      "before reshaping \n",
      "\n",
      "X_train  (6, 64, 64, 3)\n",
      "X_test  (2, 64, 64, 3)\n",
      "Y_train  (6,)\n",
      "Y_test  (2,)\n",
      "X_train  (12288, 6)\n",
      "X_test  (12288, 2)\n",
      "Y_train  (1, 6)\n",
      "Y_test  (1, 2)\n"
     ]
    }
   ],
   "source": [
    "import numpy as np\n",
    "from dataunload import X_train,Y_train,X_test,Y_test\n",
    "import random\n",
    "\n"
   ]
  },
  {
   "cell_type": "code",
   "execution_count": 2,
   "metadata": {},
   "outputs": [
    {
     "name": "stdout",
     "output_type": "stream",
     "text": [
      "(12288, 5)\n",
      "(5, 1)\n"
     ]
    }
   ],
   "source": [
    "#initializing parameters w and b\n",
    "w = np.random.randn(12288,5)\n",
    "b = np.zeros((5,1))\n",
    "print(w.shape)\n",
    "print(b.shape)"
   ]
  },
  {
   "cell_type": "code",
   "execution_count": 3,
   "metadata": {},
   "outputs": [
    {
     "data": {
      "text/plain": [
       "array([[ -1.13435744,  13.93083966,   3.2257081 , -31.77884622,\n",
       "         20.89105054, -15.39345187],\n",
       "       [-25.56496371, -25.60082962,  -4.89844646, -18.49165993,\n",
       "        -49.87784888, -66.75735424],\n",
       "       [-93.03500047, -34.30958729, -97.8485976 , -27.22461457,\n",
       "        -64.33427944, -28.56862424],\n",
       "       [ 68.05396109,   8.78708234,  71.18405497,  37.42226506,\n",
       "         28.73309472,  48.87185538],\n",
       "       [-32.58485083,  -9.10005067, -93.1444689 , -72.46676269,\n",
       "        -39.15031055, -75.75256975]])"
      ]
     },
     "execution_count": 3,
     "metadata": {},
     "output_type": "execute_result"
    }
   ],
   "source": [
    "\n",
    "z = np.dot(w.T, X_train) + b\n",
    "z"
   ]
  },
  {
   "cell_type": "code",
   "execution_count": 4,
   "metadata": {},
   "outputs": [],
   "source": [
    "def sigmoid(z):\n",
    "    return 1/(1 + np.exp(-z))     "
   ]
  },
  {
   "cell_type": "code",
   "execution_count": 5,
   "metadata": {},
   "outputs": [
    {
     "data": {
      "text/plain": [
       "array([[2.43357848e-01, 9.99999109e-01, 9.61790339e-01, 1.57987397e-14,\n",
       "        9.99999999e-01, 2.06399531e-07],\n",
       "       [7.89364026e-12, 7.61554458e-12, 7.40294827e-03, 9.31481268e-09,\n",
       "        2.17934237e-22, 1.01776948e-29],\n",
       "       [3.93924211e-41, 1.25757983e-15, 3.19811445e-43, 1.50141283e-12,\n",
       "        1.14809398e-28, 3.91565243e-13],\n",
       "       [1.00000000e+00, 9.99847330e-01, 1.00000000e+00, 1.00000000e+00,\n",
       "        1.00000000e+00, 1.00000000e+00],\n",
       "       [7.05633340e-15, 1.11647684e-04, 3.53078389e-41, 3.37353208e-32,\n",
       "        9.93656234e-18, 1.26205118e-33]])"
      ]
     },
     "execution_count": 5,
     "metadata": {},
     "output_type": "execute_result"
    }
   ],
   "source": [
    "A = sigmoid(z)\n",
    "A"
   ]
  },
  {
   "cell_type": "code",
   "execution_count": 6,
   "metadata": {},
   "outputs": [],
   "source": [
    "def cost_fun(y, y_hat):\n",
    "    m = y.shape[1]\n",
    "    # actual_value = y\n",
    "    # predicted_value = y_hat\n",
    "     \n",
    "    return - (np.dot(y, np.log(y_hat).T) + np.dot((1 - y), np.log(1 - y_hat).T)) / m"
   ]
  },
  {
   "cell_type": "code",
   "execution_count": 7,
   "metadata": {},
   "outputs": [
    {
     "name": "stderr",
     "output_type": "stream",
     "text": [
      "C:\\Users\\JEET\\AppData\\Local\\Temp\\ipykernel_4824\\913632505.py:6: RuntimeWarning: divide by zero encountered in log\n",
      "  return - (np.dot(y, np.log(y_hat).T) + np.dot((1 - y), np.log(1 - y_hat).T)) / m\n"
     ]
    },
    {
     "data": {
      "text/plain": [
       "array([[ 9.55796451, 11.61081396, 25.76153372,         nan, 19.02529597]])"
      ]
     },
     "execution_count": 7,
     "metadata": {},
     "output_type": "execute_result"
    }
   ],
   "source": [
    "cost = cost_fun(Y_train, A)\n",
    "cost"
   ]
  },
  {
   "cell_type": "code",
   "execution_count": 8,
   "metadata": {},
   "outputs": [
    {
     "data": {
      "text/plain": [
       "(12288, 5)"
      ]
     },
     "execution_count": 8,
     "metadata": {},
     "output_type": "execute_result"
    }
   ],
   "source": [
    "m = Y_train.shape[1]\n",
    "dw = (np.dot(X_train,(A - Y_train).T ))/m\n",
    "db = np.sum((A - Y_train))/m\n",
    "\n",
    "dw.shape"
   ]
  },
  {
   "cell_type": "code",
   "execution_count": 206,
   "metadata": {},
   "outputs": [],
   "source": [
    "learning_rate = 0.0001\n",
    "w -= learning_rate*dw\n",
    "b -= learning_rate*db\n",
    "#"
   ]
  },
  {
   "cell_type": "code",
   "execution_count": 207,
   "metadata": {},
   "outputs": [],
   "source": [
    "z = np.dot(w.T, X_train) + b"
   ]
  },
  {
   "cell_type": "code",
   "execution_count": 208,
   "metadata": {},
   "outputs": [
    {
     "name": "stdout",
     "output_type": "stream",
     "text": [
      "[[1.00000000e+00 1.00000000e+00 1.00000000e+00 1.00000000e+00\n",
      "  1.00000000e+00 1.00000000e+00 1.00000000e+00 8.31395901e-09]\n",
      " [1.00000000e+00 6.13704508e-08 1.00000000e+00 1.00000000e+00\n",
      "  9.99999254e-01 1.00000000e+00 9.99999999e-01 1.00000000e+00]\n",
      " [9.99999894e-01 9.71001804e-13 1.22583767e-17 1.00000000e+00\n",
      "  1.52593095e-13 4.14319849e-01 1.50429663e-19 4.81924948e-03]\n",
      " [9.99999972e-01 7.00877125e-15 2.10093653e-05 6.68428738e-18\n",
      "  2.91253161e-03 3.20884384e-15 2.36730613e-04 5.81760518e-07]\n",
      " [3.15448909e-73 5.20760105e-37 3.31911651e-70 1.13696520e-42\n",
      "  9.27773470e-42 1.22873357e-80 9.24376922e-57 1.01465633e-45]]\n"
     ]
    }
   ],
   "source": [
    "A = sigmoid(z)\n",
    "print(A)"
   ]
  },
  {
   "cell_type": "code",
   "execution_count": 209,
   "metadata": {},
   "outputs": [
    {
     "name": "stdout",
     "output_type": "stream",
     "text": [
      "[[        nan         nan         inf 13.25627339 62.52144154]]\n"
     ]
    },
    {
     "name": "stderr",
     "output_type": "stream",
     "text": [
      "C:\\Users\\JEET\\AppData\\Local\\Temp\\ipykernel_1144\\2546458613.py:6: RuntimeWarning: divide by zero encountered in log\n",
      "  return - (np.dot(y, np.log(y_hat).T) + np.dot((1 - y), np.log(1 - y_hat).T)) / m\n"
     ]
    }
   ],
   "source": [
    "cost = cost_fun(Y_train, A)\n",
    "print(cost)"
   ]
  },
  {
   "cell_type": "code",
   "execution_count": 210,
   "metadata": {},
   "outputs": [],
   "source": [
    "def optimize(num_iteration,A,w,b):\n",
    "\n",
    "    costs = []\n",
    "\n",
    "    for i in range(num_iteration):\n",
    "        \n",
    "        dw = (np.dot(X_train,(A - Y_train).T ))/m\n",
    "        db = np.sum((A - Y_train))/m\n",
    "\n",
    "        w -= learning_rate*dw\n",
    "        b -= learning_rate*db\n",
    "\n",
    "        z = np.dot(w.T, X_train) + b\n",
    "\n",
    "        A = sigmoid(z)\n",
    "\n",
    "        cost = cost_fun(Y_train, A)\n",
    "        costs.append(cost)\n",
    "\n",
    "    return costs\n",
    "\n",
    "\n",
    "\n",
    "    \n",
    " "
   ]
  },
  {
   "cell_type": "code",
   "execution_count": 211,
   "metadata": {},
   "outputs": [
    {
     "name": "stderr",
     "output_type": "stream",
     "text": [
      "C:\\Users\\JEET\\AppData\\Local\\Temp\\ipykernel_1144\\2546458613.py:6: RuntimeWarning: divide by zero encountered in log\n",
      "  return - (np.dot(y, np.log(y_hat).T) + np.dot((1 - y), np.log(1 - y_hat).T)) / m\n"
     ]
    }
   ],
   "source": [
    "final_costs = optimize(100,A,w,b)"
   ]
  },
  {
   "cell_type": "code",
   "execution_count": 223,
   "metadata": {},
   "outputs": [
    {
     "name": "stdout",
     "output_type": "stream",
     "text": [
      "[ 0.24944222 -1.20811928 -1.50997988 ...  1.44912376 -0.41909818\n",
      " -1.57249217]\n",
      "[[0.00260021]\n",
      " [0.00260021]\n",
      " [0.00260021]\n",
      " [0.00260021]\n",
      " [0.00260021]]\n",
      "(12288, 5)\n",
      "(5, 1)\n"
     ]
    }
   ],
   "source": [
    "final_costs[-1]\n",
    "print((w[:, 0]))\n",
    "print(b)\n"
   ]
  },
  {
   "cell_type": "code",
   "execution_count": 228,
   "metadata": {},
   "outputs": [
    {
     "name": "stdout",
     "output_type": "stream",
     "text": [
      "(12288, 5)\n",
      "(12288, 8)\n",
      "(5, 1)\n",
      "(5, 8)\n",
      "(5, 8)\n"
     ]
    }
   ],
   "source": [
    "print(w.shape)\n",
    "print(X_train.shape)\n",
    "print(b.shape)\n",
    "print(z.shape)\n",
    "print(A.shape)"
   ]
  },
  {
   "cell_type": "code",
   "execution_count": 231,
   "metadata": {},
   "outputs": [
    {
     "name": "stdout",
     "output_type": "stream",
     "text": [
      "[[ 0.24944222  1.22129933 -0.54173008 -2.56349444 -1.24786944]\n",
      " [-1.20811928 -0.42981509 -0.41595621  2.73640204  1.8388529 ]\n",
      " [-1.50997988  0.63611512  1.34392349  0.69831229  0.48625379]\n",
      " ...\n",
      " [ 1.44912376 -2.25711267 -0.35990558 -0.1462906  -0.06922479]\n",
      " [-0.41909818 -2.25341736 -0.45711797 -0.53356378 -0.31789447]\n",
      " [-1.57249217 -1.06787479  1.48355598 -0.16868388 -0.76095283]]\n",
      "[[0.00260021]\n",
      " [0.00260021]\n",
      " [0.00260021]\n",
      " [0.00260021]\n",
      " [0.00260021]]\n",
      "[[ 118.84747275   45.17649004   86.28694573   81.31897498   56.45583839\n",
      "    98.86858457   55.8632095   -18.60532992]\n",
      " [  54.02380559  -16.60633731   27.32434049   53.89458392   14.1082143\n",
      "    84.69289049   21.01595733   43.42067488]\n",
      " [  16.0603719   -27.66044807  -38.94032215   42.56396427  -29.51100153\n",
      "    -0.34613556  -43.34079133   -5.33030617]\n",
      " [  17.37697494  -32.59161399  -10.77052124  -39.54677207   -5.83581583\n",
      "   -33.3728657    -8.34835096  -14.35720637]\n",
      " [-166.93988524  -83.54552914 -159.98125787  -96.5802113   -94.48095649\n",
      "  -184.00082342 -129.02340057 -103.60177922]]\n"
     ]
    }
   ],
   "source": [
    "print(w)\n",
    "print(b)\n",
    "print(z)"
   ]
  },
  {
   "cell_type": "markdown",
   "metadata": {},
   "source": []
  },
  {
   "cell_type": "code",
   "execution_count": null,
   "metadata": {},
   "outputs": [],
   "source": []
  }
 ],
 "metadata": {
  "kernelspec": {
   "display_name": "Python 3",
   "language": "python",
   "name": "python3"
  },
  "language_info": {
   "codemirror_mode": {
    "name": "ipython",
    "version": 3
   },
   "file_extension": ".py",
   "mimetype": "text/x-python",
   "name": "python",
   "nbconvert_exporter": "python",
   "pygments_lexer": "ipython3",
   "version": "3.10.11"
  },
  "orig_nbformat": 4
 },
 "nbformat": 4,
 "nbformat_minor": 2
}
